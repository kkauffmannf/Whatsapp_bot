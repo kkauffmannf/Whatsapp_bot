{
 "cells": [
  {
   "cell_type": "code",
   "execution_count": 1,
   "metadata": {
    "id": "k27eTcJrJ1pa"
   },
   "outputs": [],
   "source": [
    "import numpy as np\n",
    "import pandas as pd\n",
    "from datetime import datetime, timedelta\n",
    "import locale\n",
    "import requests"
   ]
  },
  {
   "cell_type": "code",
   "execution_count": 2,
   "metadata": {
    "id": "VfCHiCuJJ9Ze"
   },
   "outputs": [],
   "source": [
    "# el símbolo # al inicio de la línea nos indica que esto es un comentario, no se ejecuta con el código\n",
    "# date indica la fecha de los datos que queremos utilizar\n",
    "\n",
    "locale.setlocale(locale.LC_ALL, 'es_CL.utf8')\n",
    "# Returns the current local date\n",
    "\n",
    "date = datetime.today()\n",
    "datem1 = date - timedelta(days=1)\n",
    "\n",
    "date_str = date.strftime(\"%Y-%m-%d\")\n",
    "datem1_str = datem1.strftime(\"%Y-%m-%d\")"
   ]
  },
  {
   "cell_type": "code",
   "execution_count": 3,
   "metadata": {
    "id": "pdi-inaJR0tI"
   },
   "outputs": [],
   "source": [
    "def reportecovid(date, datem1):\n",
    "  dateformatted = datetime.strptime(date, '%Y-%m-%d')\n",
    "  dateformatted = dateformatted.strftime(\"%A %d-%m-%Y\")  \n",
    "  dataTotal = pd.read_csv(\"https://raw.githubusercontent.com/MinCiencia/Datos-COVID19/master/output/producto4/\" + date + \"-CasosConfirmados-totalRegional.csv\",index_col=0)\n",
    "  dataTotalayer = pd.read_csv(\"https://raw.githubusercontent.com/MinCiencia/Datos-COVID19/master/output/producto4/\" + datem1 + \"-CasosConfirmados-totalRegional.csv\",index_col=0)\n",
    "  dataPCR = pd.read_csv(\"https://raw.githubusercontent.com/MinCiencia/Datos-COVID19/master/output/producto17/PCREstablecimiento.csv\", index_col=0)\n",
    "  dataCamasCrit = pd.read_csv(\"https://raw.githubusercontent.com/MinCiencia/Datos-COVID19/master/output/producto20/NumeroVentiladores.csv\", index_col=0)\n",
    "  dataPos = pd.read_csv(\"https://raw.githubusercontent.com/MinCiencia/Datos-COVID19/master/output/producto49/Positividad_Diaria_Media.csv\", index_col=0)\n",
    "  string_data = \"Reporte COVID del día \" + dateformatted + \"\\n\\nCasos nuevos: \" + locale.format_string('%.0f', dataTotal.loc['Total', 'Casos nuevos totales'], True) + \"\\nCasos activos: \" + locale.format_string('%.0f', dataTotal.loc['Total', 'Casos activos confirmados'], True) + \"\\nFallecidos hoy: \" + locale.format_string('%.0f', dataTotal.loc['Total', 'Fallecidos totales']-dataTotalayer.loc['Total', 'Fallecidos totales'], True) + \"\\nFallecidos totales: \" + locale.format_string('%.0f', dataTotal.loc['Total', 'Fallecidos totales'], True) + \"\\nExámenes PCR último día: \" + locale.format_string('%.0f', dataPCR.loc['Total informados ultimo dia',date], True) + \"\\nExámenes PCR total: \" + locale.format_string('%.0f', dataPCR.loc['Total realizados',date], True) + \"\\nCamas críticas disponibles: \" + locale.format_string('%.0f', dataCamasCrit.loc['disponibles',date], True) + \"\\nPositividad PCR: \" + locale.format_string('%.2f', dataPos.loc['positividad pcr',date]*100, True) + \"%\"\n",
    "  return string_data  \n"
   ]
  },
  {
   "cell_type": "code",
   "execution_count": 4,
   "metadata": {
    "colab": {
     "base_uri": "https://localhost:8080/"
    },
    "id": "13UYMU9mRZon",
    "outputId": "0ccd362f-d013-4342-f8eb-2beed0bcda78"
   },
   "outputs": [
    {
     "name": "stdout",
     "output_type": "stream",
     "text": [
      "El reporte COVID de hoy no está disponible aún. El último reporte disponible es el del día martes 29-11-2022.\n",
      "\n",
      "Reporte COVID del día martes 29-11-2022\n",
      "\n",
      "Casos nuevos: 2.291\n",
      "Casos activos: 9.160\n",
      "Fallecidos hoy: 10\n",
      "Fallecidos totales: 62.417\n",
      "Exámenes PCR último día: 6.355\n",
      "Exámenes PCR total: 39.466.131\n",
      "Camas críticas disponibles: 263\n",
      "Positividad PCR: 13,71%\n"
     ]
    }
   ],
   "source": [
    "response = requests.get(\"https://raw.githubusercontent.com/MinCiencia/Datos-COVID19/master/output/producto4/\" + date_str + \"-CasosConfirmados-totalRegional.csv\")\n",
    "\n",
    "if response.status_code == 200:\n",
    "    print(reportecovid(date_str,datem1_str))\n",
    "    \n",
    "else: \n",
    "    i=0\n",
    "    while response.status_code != 200:\n",
    "        i+=1\n",
    "        date = datetime.today() - timedelta(days=i)\n",
    "        datem1 = date - timedelta(days=1)\n",
    "        date_str = date.strftime(\"%Y-%m-%d\")\n",
    "        datem1_str = datem1.strftime(\"%Y-%m-%d\")\n",
    "        response = requests.get(\"https://raw.githubusercontent.com/MinCiencia/Datos-COVID19/master/output/producto4/\" + date_str + \"-CasosConfirmados-totalRegional.csv\")  \n",
    "\n",
    "\n",
    "    print(\"El reporte COVID de hoy no está disponible aún. El último reporte disponible es el del día \" + date.strftime(\"%A %d-%m-%Y\") + \".\\n\\n\" + reportecovid(date_str,datem1_str))\n",
    "\n"
   ]
  },
  {
   "cell_type": "code",
   "execution_count": null,
   "metadata": {},
   "outputs": [],
   "source": []
  }
 ],
 "metadata": {
  "colab": {
   "provenance": []
  },
  "kernelspec": {
   "display_name": "Python 3 (ipykernel)",
   "language": "python",
   "name": "python3"
  },
  "language_info": {
   "codemirror_mode": {
    "name": "ipython",
    "version": 3
   },
   "file_extension": ".py",
   "mimetype": "text/x-python",
   "name": "python",
   "nbconvert_exporter": "python",
   "pygments_lexer": "ipython3",
   "version": "3.10.6"
  }
 },
 "nbformat": 4,
 "nbformat_minor": 1
}
